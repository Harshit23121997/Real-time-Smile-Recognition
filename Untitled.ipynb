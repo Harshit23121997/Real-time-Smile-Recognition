{
 "cells": [
  {
   "cell_type": "code",
   "execution_count": 26,
   "metadata": {
    "collapsed": true
   },
   "outputs": [],
   "source": [
    "import cv2\n",
    "import glob,os\n",
    "import numpy as np"
   ]
  },
  {
   "cell_type": "code",
   "execution_count": 149,
   "metadata": {
    "collapsed": false
   },
   "outputs": [],
   "source": [
    "# reading images from the data folder\n",
    "# label, smile = 1, neutral = 0\n",
    "(img_width, img_height) = (45, 25)\n",
    "def load_images_from_folder(folder):\n",
    "    (images, lables, names, id) = ([], [], {}, 0)\n",
    "    for (subdirs, dirs, files) in os.walk(folder):\n",
    "        print subdirs, dirs\n",
    "        for subdir in dirs:\n",
    "            names[id] = subdir\n",
    "            subjectpath = os.path.join(folder, subdir)\n",
    "            for filename in os.listdir(subjectpath):\n",
    "                path = subjectpath + '/' + filename\n",
    "                lable = id\n",
    "                img = cv2.imread(path, 0)\n",
    "                img = cv2.resize(img,(img_width, img_height))\n",
    "                images.append(img)\n",
    "                lables.append(int(lable))\n",
    "            id += 1\n",
    "        print names\n",
    "        return images, lables\n"
   ]
  },
  {
   "cell_type": "code",
   "execution_count": 155,
   "metadata": {
    "collapsed": false
   },
   "outputs": [
    {
     "name": "stdout",
     "output_type": "stream",
     "text": [
      "./data/ ['neutral', 'smile']\n",
      "{0: 'neutral', 1: 'smile'}\n"
     ]
    }
   ],
   "source": [
    "X,Y = load_images_from_folder(\"./data/\")\n",
    "\n",
    "(X,Y) = [np.array(lis) for lis in [X, Y]]"
   ]
  },
  {
   "cell_type": "code",
   "execution_count": 167,
   "metadata": {
    "collapsed": false
   },
   "outputs": [
    {
     "data": {
      "text/plain": [
       "(25, 45)"
      ]
     },
     "execution_count": 167,
     "metadata": {},
     "output_type": "execute_result"
    }
   ],
   "source": [
    "X.shape[1:]"
   ]
  },
  {
   "cell_type": "code",
   "execution_count": 170,
   "metadata": {
    "collapsed": false
   },
   "outputs": [],
   "source": [
    "g = X.reshape(X.shape[0],-1).T"
   ]
  },
  {
   "cell_type": "code",
   "execution_count": 174,
   "metadata": {
    "collapsed": false
   },
   "outputs": [
    {
     "name": "stdout",
     "output_type": "stream",
     "text": [
      "107\n",
      "1125\n"
     ]
    }
   ],
   "source": [
    "print len(X)\n",
    "print len(g)"
   ]
  },
  {
   "cell_type": "code",
   "execution_count": null,
   "metadata": {
    "collapsed": true
   },
   "outputs": [],
   "source": []
  }
 ],
 "metadata": {
  "kernelspec": {
   "display_name": "Python 2",
   "language": "python",
   "name": "python2"
  },
  "language_info": {
   "codemirror_mode": {
    "name": "ipython",
    "version": 2
   },
   "file_extension": ".py",
   "mimetype": "text/x-python",
   "name": "python",
   "nbconvert_exporter": "python",
   "pygments_lexer": "ipython2",
   "version": "2.7.12"
  },
  "widgets": {
   "state": {
    "05e1fb432d8c46968c84071135945319": {
     "views": []
    },
    "0aa7c8fad8784f689e6543fc7f5d4a55": {
     "views": []
    },
    "16710764ce8f4298b034ba6ee5d69601": {
     "views": []
    },
    "569365f56c624edaa553deb63288b79e": {
     "views": []
    },
    "7774c2a0273541c4b1ec7765b4faca32": {
     "views": []
    },
    "7b678a702b86477f85093a5d27312922": {
     "views": []
    },
    "7e585164826544b78d24560f1a633d8a": {
     "views": []
    },
    "9651f9160a2847ad80f924a6eaf4bccb": {
     "views": []
    },
    "9bbdeb20747f49c2b9678560ecf991e4": {
     "views": []
    },
    "b59e3ac0f2bb4b11b9a64349dd31cfae": {
     "views": []
    },
    "c63db50ea8184e9db8e0b44e87931cda": {
     "views": []
    },
    "ce9192ab9bdb4ddda89a55489ce6c721": {
     "views": []
    }
   },
   "version": "1.1.2"
  }
 },
 "nbformat": 4,
 "nbformat_minor": 0
}
